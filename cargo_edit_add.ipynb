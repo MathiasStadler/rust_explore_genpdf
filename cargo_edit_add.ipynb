{
 "cells": [
  {
   "cell_type": "markdown",
   "metadata": {},
   "source": [
    "# explore cargo [edit](https://crates.io/crates/cargo-edit)/add Cargo commands for modifying a `Cargo.toml` file.."
   ]
  },
  {
   "cell_type": "markdown",
   "metadata": {},
   "source": [
    "## new cargo project inside current folder "
   ]
  },
  {
   "cell_type": "code",
   "execution_count": null,
   "metadata": {
    "vscode": {
     "languageId": "shellscript"
    }
   },
   "outputs": [],
   "source": [
    "# cargo init . //initial new project"
   ]
  },
  {
   "cell_type": "markdown",
   "metadata": {},
   "source": [
    "## install cargo-edit"
   ]
  },
  {
   "cell_type": "code",
   "execution_count": null,
   "metadata": {
    "vscode": {
     "languageId": "shellscript"
    }
   },
   "outputs": [],
   "source": [
    "cargo install cargo-edit"
   ]
  },
  {
   "cell_type": "markdown",
   "metadata": {},
   "source": [
    "## cargo add genpdf"
   ]
  },
  {
   "cell_type": "code",
   "execution_count": 1,
   "metadata": {
    "vscode": {
     "languageId": "shellscript"
    }
   },
   "outputs": [
    {
     "name": "stdout",
     "output_type": "stream",
     "text": [
      "    Updating crates.io index\n",
      "      Adding genpdf v0.2.0 to dependencies.\n",
      "             Features:\n",
      "             - hyphenation\n",
      "             - image\n",
      "             - images\n",
      "    Updating crates.io index\n"
     ]
    }
   ],
   "source": [
    "cargo add genpdf"
   ]
  },
  {
   "cell_type": "markdown",
   "metadata": {},
   "source": [
    ":help\n"
   ]
  }
 ],
 "metadata": {
  "kernelspec": {
   "display_name": "Bash",
   "language": "bash",
   "name": "bash"
  },
  "language_info": {
   "codemirror_mode": "shell",
   "file_extension": ".sh",
   "mimetype": "text/x-sh",
   "name": "bash"
  }
 },
 "nbformat": 4,
 "nbformat_minor": 2
}
